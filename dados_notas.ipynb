{
 "cells": [
  {
   "cell_type": "code",
   "execution_count": null,
   "id": "8a4344e0-58e8-4140-bc04-ea8c45ff8b43",
   "metadata": {},
   "outputs": [],
   "source": [
    "#!pip install pandas\n",
    "import pandas as pd\n",
    "pd.set_option('display.max_rows', 4000)\n",
    "#pd.set_option('display.precision', 2)"
   ]
  },
  {
   "cell_type": "code",
   "execution_count": null,
   "id": "e1bc5a15-ff02-4dc4-b125-ee409ceaeb06",
   "metadata": {},
   "outputs": [],
   "source": [
    "def calcula_acertos(nome, resp, gab):\n",
    "    acertos = 0\n",
    "    resp = resp.loc[[nome]]\n",
    "    r,g = resp.Resposta.tolist(), gab.Resposta.tolist()\n",
    "    for q in range(len(g)):\n",
    "        if r[q] == g[q]:\n",
    "            acertos += 1\n",
    "    return acertos"
   ]
  },
  {
   "cell_type": "code",
   "execution_count": null,
   "id": "347ae0e7-ac33-4162-ac01-bddd8177c092",
   "metadata": {
    "tags": []
   },
   "outputs": [],
   "source": [
    "gabarito,respostas = pd.read_excel('Gabarito.xlsx', index_col = 0), pd.read_excel('Respostas.xlsx', index_col = 0)\n",
    "gabarito.rename(columns={'Gabarito' : 'Resposta'}, inplace = True)\n",
    "respostas.rename(columns = {'resp_aluno' : 'Resposta'}, inplace = True)\n",
    "respostas['Resposta'] = respostas['Resposta'].str.upper()"
   ]
  },
  {
   "cell_type": "code",
   "execution_count": null,
   "id": "f8567d03-34ae-4ab5-94d2-2976fae47237",
   "metadata": {},
   "outputs": [],
   "source": [
    "lista_alunos = []\n",
    "for aluno in respostas.index:\n",
    "    if aluno not in lista_alunos:\n",
    "        lista_alunos.append(aluno)"
   ]
  },
  {
   "cell_type": "code",
   "execution_count": null,
   "id": "3456b810-e33b-4474-ac93-22aea1066380",
   "metadata": {
    "tags": []
   },
   "outputs": [],
   "source": [
    "relatorio = pd.DataFrame(columns = [['Nome', 'Média de acertos %', 'Média de acertos', 'Total de acertos']])\n",
    "for aluno in lista_alunos:\n",
    "    acertos = calcula_acertos(aluno, respostas, gabarito)\n",
    "    boletim = (aluno, ((acertos/len(gabarito)*100)), (acertos/len(gabarito)), acertos)\n",
    "    boletim = pd.DataFrame([boletim], columns = [['Nome', 'Média de acertos %', 'Média de acertos', 'Total de acertos']])\n",
    "    relatorio = pd.concat([relatorio, boletim], ignore_index=True)\n",
    "boletim = ('Total', relatorio['Média de acertos %'].mean(skipna=False)[0], relatorio['Média de acertos'].mean(skipna=False)[0], relatorio['Total de acertos'].sum()[0])\n",
    "boletim = pd.DataFrame([boletim], columns = [['Nome', 'Média de acertos %', 'Média de acertos', 'Total de acertos']])\n",
    "relatorio = pd.concat([relatorio, boletim], ignore_index=True)\n",
    "relatorio.round(2)\n",
    "relatorio"
   ]
  }
 ],
 "metadata": {
  "kernelspec": {
   "display_name": "Python 3 (ipykernel)",
   "language": "python",
   "name": "python3"
  },
  "language_info": {
   "codemirror_mode": {
    "name": "ipython",
    "version": 3
   },
   "file_extension": ".py",
   "mimetype": "text/x-python",
   "name": "python",
   "nbconvert_exporter": "python",
   "pygments_lexer": "ipython3",
   "version": "3.10.8"
  }
 },
 "nbformat": 4,
 "nbformat_minor": 5
}
